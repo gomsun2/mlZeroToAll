{
 "cells": [
  {
   "cell_type": "code",
   "execution_count": 8,
   "metadata": {},
   "outputs": [
    {
     "name": "stdout",
     "output_type": "stream",
     "text": [
      "0 4.691019\n",
      "200 0.56557715\n",
      "400 0.4592135\n",
      "600 0.3640802\n",
      "800 0.27393532\n",
      "1000 0.23230219\n",
      "1200 0.2108104\n",
      "1400 0.19286698\n",
      "1600 0.17765269\n",
      "1800 0.16459174\n",
      "2000 0.15326208\n",
      "[[9.8812804e-03 9.9011046e-01 8.2914275e-06]] [1]\n",
      "[[9.8812804e-03 9.9011046e-01 8.2914275e-06]\n",
      " [7.9919809e-01 1.8346715e-01 1.7334705e-02]\n",
      " [8.6370058e-09 3.1153968e-04 9.9968851e-01]] [1 0 2]\n"
     ]
    }
   ],
   "source": [
    "import tensorflow as tf\n",
    "\n",
    "x_data = [\n",
    "    [1,2,1,1], \n",
    "    [2,1,3,2], \n",
    "    [3,1,3,4], \n",
    "    [4,1,5,5],\n",
    "    [1,7,5,5],\n",
    "    [1,2,5,6],\n",
    "    [1,6,6,6],\n",
    "    [1,7,7,7]\n",
    "]\n",
    "\n",
    "# one-hot encoding\n",
    "y_data = [\n",
    "    [0,0,1], #2\n",
    "    [0,0,1],\n",
    "    [0,0,1],\n",
    "    [0,1,0], #1\n",
    "    [0,1,0],\n",
    "    [0,1,0],\n",
    "    [1,0,0], #0\n",
    "    [1,0,0]\n",
    "]\n",
    "\n",
    "X = tf.placeholder(tf.float32, [None, 4])\n",
    "Y = tf.placeholder(tf.float32, [None, 3])\n",
    "nb_classes = 3\n",
    "\n",
    "W = tf.Variable(tf.random_normal([4, nb_classes]), name='weight')\n",
    "b = tf.Variable(tf.random_normal([nb_classes]), name='bias')\n",
    "\n",
    "# tf.nn.softmax computes softmax activations\n",
    "# softmax = exp(logits) / reduce_mean(exp(logits), dim)\n",
    "hypothesis = tf.nn.softmax(tf.matmul(X, W) + b)\n",
    "\n",
    "# Cross entropy cost/loss\n",
    "cost = tf.reduce_mean(-tf.reduce_sum(Y * tf.log(hypothesis), axis=1))\n",
    "optimizer = tf.train.GradientDescentOptimizer(learning_rate=0.1).minimize(cost)\n",
    "\n",
    "with tf.Session() as sess:\n",
    "    sess.run(tf.global_variables_initializer())\n",
    "    \n",
    "    for step in range(2001):\n",
    "        sess.run(optimizer, feed_dict={X: x_data, Y: y_data})\n",
    "        if step % 200 == 0:\n",
    "            print(step, sess.run(cost, feed_dict={X: x_data, Y: y_data}))\n",
    "            \n",
    "    a = sess.run(hypothesis, feed_dict={X: [[1, 11, 7, 9]]})\n",
    "    print(a, sess.run(tf.argmax(a, 1)))\n",
    "    \n",
    "    all = sess.run(hypothesis, feed_dict={X: [[1, 11, 7, 9],\n",
    "                                              [1, 3,  4, 3],\n",
    "                                              [1, 1,  0, 1]]})\n",
    "    print(all, sess.run(tf.argmax(all, 1)))"
   ]
  }
 ],
 "metadata": {
  "kernelspec": {
   "display_name": "Python 3",
   "language": "python",
   "name": "python3"
  },
  "language_info": {
   "codemirror_mode": {
    "name": "ipython",
    "version": 3
   },
   "file_extension": ".py",
   "mimetype": "text/x-python",
   "name": "python",
   "nbconvert_exporter": "python",
   "pygments_lexer": "ipython3",
   "version": "3.6.5"
  }
 },
 "nbformat": 4,
 "nbformat_minor": 2
}
