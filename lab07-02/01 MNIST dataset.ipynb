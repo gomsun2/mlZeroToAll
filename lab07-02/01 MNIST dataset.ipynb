{
 "cells": [
  {
   "cell_type": "code",
   "execution_count": 12,
   "metadata": {},
   "outputs": [
    {
     "name": "stdout",
     "output_type": "stream",
     "text": [
      "Extracting MNIST_data/train-images-idx3-ubyte.gz\n",
      "Extracting MNIST_data/train-labels-idx1-ubyte.gz\n",
      "Extracting MNIST_data/t10k-images-idx3-ubyte.gz\n",
      "Extracting MNIST_data/t10k-labels-idx1-ubyte.gz\n",
      "epoch: 0001 cost =  2.751200352\n",
      "epoch: 0002 cost =  1.134475860\n",
      "epoch: 0003 cost =  0.892928687\n",
      "epoch: 0004 cost =  0.775751456\n",
      "epoch: 0005 cost =  0.702960036\n",
      "epoch: 0006 cost =  0.652027472\n",
      "epoch: 0007 cost =  0.613934140\n",
      "epoch: 0008 cost =  0.583265603\n",
      "epoch: 0009 cost =  0.558856153\n",
      "epoch: 0010 cost =  0.537614378\n",
      "epoch: 0011 cost =  0.519923362\n",
      "epoch: 0012 cost =  0.504841274\n",
      "epoch: 0013 cost =  0.491023529\n",
      "epoch: 0014 cost =  0.479194647\n",
      "epoch: 0015 cost =  0.468467124\n",
      "epoch: 0016 cost =  0.457887864\n",
      "epoch: 0017 cost =  0.449558418\n",
      "epoch: 0018 cost =  0.441355585\n",
      "epoch: 0019 cost =  0.433964354\n",
      "epoch: 0020 cost =  0.426646939\n",
      "epoch: 0021 cost =  0.420563552\n",
      "epoch: 0022 cost =  0.414484771\n",
      "epoch: 0023 cost =  0.408512525\n",
      "epoch: 0024 cost =  0.403794829\n",
      "epoch: 0025 cost =  0.398855721\n",
      "epoch: 0026 cost =  0.394145487\n",
      "epoch: 0027 cost =  0.389789281\n",
      "epoch: 0028 cost =  0.385650006\n",
      "epoch: 0029 cost =  0.381981092\n",
      "epoch: 0030 cost =  0.378059907\n",
      "learning finished\n",
      "accuracy:  0.9041\n",
      "label:  [1]\n",
      "prediction:  [1]\n"
     ]
    },
    {
     "data": {
      "image/png": "[encoded data removed]",
      "text/plain": [
       "<Figure size 432x288 with 1 Axes>"
      ]
     },
     "metadata": {},
     "output_type": "display_data"
    }
   ],
   "source": [
    "import tensorflow as tf\n",
    "import random\n",
    "import matplotlib.pyplot as plt\n",
    "from tensorflow.examples.tutorials.mnist import input_data\n",
    "\n",
    "mnist = input_data.read_data_sets(\"MNIST_data/\", one_hot=True)\n",
    "\n",
    "nb_classes = 10\n",
    "\n",
    "#MNIST data image of shape 28* 28 = 784\n",
    "X = tf.placeholder(tf.float32, [None, 784])\n",
    "Y = tf.placeholder(tf.float32, [None, nb_classes])\n",
    "\n",
    "W = tf.Variable(tf.random_normal([784, nb_classes]))\n",
    "b = tf.Variable(tf.random_normal([nb_classes]))\n",
    "\n",
    "hypothesis = tf.nn.softmax(tf.matmul(X, W) +b)\n",
    "\n",
    "cost = tf.reduce_mean(-tf.reduce_sum(Y * tf.log(hypothesis), axis=1))\n",
    "optimizer = tf.train.GradientDescentOptimizer(learning_rate=0.1).minimize(cost)\n",
    "\n",
    "# Test model\n",
    "is_correct = tf.equal(tf.arg_max(hypothesis, 1), tf.arg_max(Y, 1))\n",
    "# Calculate accuracy\n",
    "accuracy = tf.reduce_mean(tf.cast(is_correct, tf.float32))\n",
    "\n",
    "# Parameters\n",
    "traning_epochs = 30\n",
    "batch_size = 100\n",
    "\n",
    "with tf.Session() as sess:\n",
    "    sess.run(tf.global_variables_initializer())\n",
    "   # traning cycle\n",
    "    for epoch in range(traning_epochs):\n",
    "        avg_cost = 0\n",
    "        total_batch = int(mnist.train.num_examples / batch_size)\n",
    "        for i in range(total_batch):\n",
    "            batch_xs, batch_ys = mnist.train.next_batch(batch_size)\n",
    "            c, _ = sess.run([cost, optimizer], feed_dict={X: batch_xs, Y: batch_ys})\n",
    "            avg_cost += c / total_batch\n",
    "        print('epoch:', '%04d' % (epoch +1), 'cost = ', '{:.9f}'.format(avg_cost))\n",
    "    print('learning finished')\n",
    "    \n",
    "        #test the model using test set\n",
    "    print('accuracy: ', accuracy.eval(session=sess, feed_dict={X:mnist.test.images, Y: mnist.test.labels}))\n",
    "    \n",
    "    #Get one and predict\n",
    "    r = random.randint(0, mnist.test.num_examples -1)\n",
    "    print('label: ', sess.run(tf.argmax(mnist.test.labels[r:r +1], 1)))\n",
    "    print('prediction: ', sess.run(tf.argmax(hypothesis, 1), feed_dict={X: mnist.test.images[r:r +1]}))\n",
    "    plt.imshow(\n",
    "        mnist.test.images[r:r +1].reshape(28, 28),\n",
    "        cmap='Greys',\n",
    "        interpolation='nearest'\n",
    "    )\n",
    "    plt.show()"
   ]
  }
 ],
 "metadata": {
  "kernelspec": {
   "display_name": "Python 3",
   "language": "python",
   "name": "python3"
  },
  "language_info": {
   "codemirror_mode": {
    "name": "ipython",
    "version": 3
   },
   "file_extension": ".py",
   "mimetype": "text/x-python",
   "name": "python",
   "nbconvert_exporter": "python",
   "pygments_lexer": "ipython3",
   "version": "3.6.5"
  }
 },
 "nbformat": 4,
 "nbformat_minor": 2
}
