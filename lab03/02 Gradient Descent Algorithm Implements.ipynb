{
 "cells": [
  {
   "cell_type": "code",
   "execution_count": 19,
   "metadata": {},
   "outputs": [
    {
     "name": "stdout",
     "output_type": "stream",
     "text": [
      "[0.78525686] 0 0.21520154 [0.78525686]\n",
      "[0.88547033] 1 0.061212886 [0.88547033]\n",
      "[0.9389175] 2 0.017411673 [0.9389175]\n",
      "[0.96742266] 3 0.004952657 [0.96742266]\n",
      "[0.9826254] 4 0.0014087561 [0.9826254]\n",
      "[0.99073356] 5 0.00040071303 [0.99073356]\n",
      "[0.9950579] 6 0.00011398061 [0.9950579]\n",
      "[0.9973642] 7 3.2421143e-05 [0.9973642]\n",
      "[0.9985943] 8 9.221508e-06 [0.9985943]\n",
      "[0.9992503] 9 2.6231294e-06 [0.9992503]\n",
      "[0.9996002] 10 7.4602445e-07 [0.9996002]\n",
      "[0.99978673] 11 2.1230083e-07 [0.99978673]\n",
      "[0.9998863] 12 6.0356456e-08 [0.9998863]\n",
      "[0.9999393] 13 1.719603e-08 [0.9999393]\n",
      "[0.99996763] 14 4.884542e-09 [0.99996763]\n",
      "[0.9999827] 15 1.3984476e-09 [0.9999827]\n",
      "[0.9999908] 16 3.953886e-10 [0.9999908]\n",
      "[0.9999951] 17 1.12649445e-10 [0.9999951]\n",
      "[0.9999974] 18 3.2097585e-11 [0.9999974]\n",
      "[0.9999986] 19 8.608225e-12 [0.9999986]\n",
      "[0.9999993] 20 2.3874236e-12 [0.9999993]\n"
     ]
    }
   ],
   "source": [
    "import tensorflow as tf\n",
    "\n",
    "x_data = [1,2,3]\n",
    "y_data = [1,2,3]\n",
    "\n",
    "W = tf.Variable(tf.random_normal([1]), name = 'weight')\n",
    "X = tf.placeholder(tf.float32)\n",
    "Y = tf.placeholder(tf.float32)\n",
    "\n",
    "hypothesis = X * W;\n",
    "cost = tf.reduce_mean(tf.square(hypothesis-Y))\n",
    "\n",
    "# Minimize: gradient descent using derivative: W -= learning_rate * derivative\n",
    "#   optimizer = tf.train.GradientDescentOptimizer(learning_rate = 0.1)\n",
    "#   train = optimizer.minimize(cost)\n",
    "learning_rate = 0.1\n",
    "gradient = tf.reduce_mean((W * X - Y) * X)\n",
    "descent = W - learning_rate * gradient\n",
    "update = W.assign(descent)\n",
    "\n",
    "\n",
    "sess = tf.Session()\n",
    "sess.run(tf.global_variables_initializer())\n",
    "for step in range(21):\n",
    "    sess.run(update, feed_dict={X: x_data, Y: y_data})\n",
    "    print(sess.run(W), step, sess.run(cost, feed_dict={X: x_data, Y: y_data}), sess.run(W))"
   ]
  }
 ],
 "metadata": {
  "kernelspec": {
   "display_name": "Python 3",
   "language": "python",
   "name": "python3"
  },
  "language_info": {
   "codemirror_mode": {
    "name": "ipython",
    "version": 3
   },
   "file_extension": ".py",
   "mimetype": "text/x-python",
   "name": "python",
   "nbconvert_exporter": "python",
   "pygments_lexer": "ipython3",
   "version": "3.6.5"
  }
 },
 "nbformat": 4,
 "nbformat_minor": 2
}
